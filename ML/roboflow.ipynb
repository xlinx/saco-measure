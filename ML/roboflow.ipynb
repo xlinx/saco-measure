!pip install roboflow

from roboflow import Roboflow
rf = Roboflow(api_key="EzIhTPHNkLjfevWJdK6r")
project = rf.workspace("twplate").project("sacomeasure")
version = project.version(1)
dataset = version.download("coco-segmentation")
